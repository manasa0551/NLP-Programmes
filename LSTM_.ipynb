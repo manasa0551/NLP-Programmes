{
  "nbformat": 4,
  "nbformat_minor": 0,
  "metadata": {
    "colab": {
      "name": "LSTM .ipynb",
      "provenance": [],
      "collapsed_sections": []
    },
    "kernelspec": {
      "name": "python3",
      "display_name": "Python 3"
    },
    "language_info": {
      "name": "python"
    },
    "accelerator": "GPU",
    "gpuClass": "standard"
  },
  "cells": [
    {
      "cell_type": "code",
      "execution_count": null,
      "metadata": {
        "id": "FiPh4ewCxpSj"
      },
      "outputs": [],
      "source": [
        "# keras and tensorflow > 2.0"
      ]
    },
    {
      "cell_type": "code",
      "source": [
        "# 1st step is data collection\n",
        "# 2. Preprocess the data - Train and Test\n",
        "# 3. Create an stacked LSTM model\n",
        "# 4. Predict the test data and plot the output.\n",
        "# 5. predict the future (some days) and plot the output.\n"
      ],
      "metadata": {
        "id": "AjCAl-5Axq_L"
      },
      "execution_count": null,
      "outputs": []
    },
    {
      "cell_type": "code",
      "source": [
        "# Import libraries\n",
        "import os\n",
        "import numpy as np\n",
        "import pandas as pd\n",
        "import matplotlib.pyplot as plt\n",
        "%matplotlib inline"
      ],
      "metadata": {
        "id": "qlVwLjiyxrCm"
      },
      "execution_count": 6,
      "outputs": []
    },
    {
      "cell_type": "code",
      "source": [
        "# loading the dataset\n",
        "headlines = []\n",
        "df=pd.read_csv(\"ArticlesApril2017.csv\")\n",
        "headlines.extend(list(df.headline.values))\n",
        "headlines = [line for line in headlines if line!= \"Unknown\"]\n",
        "print(*headlines[:10], sep = \"\\n\")"
      ],
      "metadata": {
        "colab": {
          "base_uri": "https://localhost:8080/"
        },
        "id": "vWcLDzQyxrF6",
        "outputId": "e1192849-bd7b-4342-b9ea-a6553efd0a6f"
      },
      "execution_count": 7,
      "outputs": [
        {
          "output_type": "stream",
          "name": "stdout",
          "text": [
            "Finding an Expansive View  of a Forgotten People in Niger\n",
            "And Now,  the Dreaded Trump Curse\n",
            "Venezuela’s Descent Into Dictatorship\n",
            "Stain Permeates Basketball Blue Blood\n",
            "Taking Things for Granted\n",
            "The Caged Beast Awakens\n",
            "An Ever-Unfolding Story\n",
            "O’Reilly Thrives as Settlements Add Up\n",
            "Mouse Infestation\n",
            "Divide in G.O.P. Now Threatens Trump Tax Plan\n"
          ]
        }
      ]
    },
    {
      "cell_type": "code",
      "source": [
        "import warnings\n",
        "warnings.filterwarnings(\"ignore\")\n",
        "warnings.simplefilter(action='ignore', category=FutureWarning)"
      ],
      "metadata": {
        "id": "d9v7HOEoz8N1"
      },
      "execution_count": 8,
      "outputs": []
    },
    {
      "cell_type": "code",
      "source": [
        "# cleaning the data step by step \n",
        "import string\n",
        "def clean_text(txt):\n",
        "    txt = \"\".join(v for v in txt if v not in string.punctuation).lower()\n",
        "    txt = txt.encode(\"utf8\").decode(\"ascii\",'ignore')\n",
        "    return txt\n"
      ],
      "metadata": {
        "id": "CHyeu4DzxrL8"
      },
      "execution_count": 9,
      "outputs": []
    },
    {
      "cell_type": "markdown",
      "source": [
        "Defined a function that takes a single headline at a time and returns the cleaned headline. \n",
        "Using iteration we have passed each headline and made a list of cleaned data corpus."
      ],
      "metadata": {
        "id": "XW4PyhuXEfDz"
      }
    },
    {
      "cell_type": "code",
      "source": [
        "corpus = [clean_text(x) for x in headlines]\n",
        "corpus[:10]"
      ],
      "metadata": {
        "id": "IM7jGFfdxrOt",
        "colab": {
          "base_uri": "https://localhost:8080/"
        },
        "outputId": "b3a7b405-9fa9-4a6b-ac71-cd4943f64435"
      },
      "execution_count": 10,
      "outputs": [
        {
          "output_type": "execute_result",
          "data": {
            "text/plain": [
              "['finding an expansive view  of a forgotten people in niger',\n",
              " 'and now  the dreaded trump curse',\n",
              " 'venezuelas descent into dictatorship',\n",
              " 'stain permeates basketball blue blood',\n",
              " 'taking things for granted',\n",
              " 'the caged beast awakens',\n",
              " 'an everunfolding story',\n",
              " 'oreilly thrives as settlements add up',\n",
              " 'mouse infestation',\n",
              " 'divide in gop now threatens trump tax plan']"
            ]
          },
          "metadata": {},
          "execution_count": 10
        }
      ]
    },
    {
      "cell_type": "markdown",
      "source": [
        "Generating n-gram squence for Training\n",
        "\n",
        "-nlp model requires sequential input data and input word\\tokenmust be numerical.\n",
        "\n",
        "-Goal is to generate n-grams in order to train our model for next word prediction. "
      ],
      "metadata": {
        "id": "oBcov8PoG71w"
      }
    },
    {
      "cell_type": "code",
      "source": [
        "import nltk\n",
        "from keras.preprocessing.sequence import pad_sequences\n",
        "from keras.layers import Embedding, LSTM, Dense, Dropout\n",
        "from keras.preprocessing.text import Tokenizer\n",
        "from keras.callbacks import EarlyStopping\n",
        "from keras.models import Sequential\n",
        "import keras.utils as ku"
      ],
      "metadata": {
        "id": "FmkZl3Gvxrbm"
      },
      "execution_count": 2,
      "outputs": []
    },
    {
      "cell_type": "code",
      "source": [
        "\n",
        "tokenizer = Tokenizer()\n",
        "\n",
        "def get_sequence_of_tokens(corpus):\n",
        "    ## tokenization\n",
        "    tokenizer.fit_on_texts(corpus)\n",
        "    total_words = len(tokenizer.word_index) + 1\n",
        "    \n",
        "## convert data to sequence of tokens \n",
        "    input_sequences = []\n",
        "    for line in corpus:\n",
        "        token_list = tokenizer.texts_to_sequences([line])[0]\n",
        "        for i in range(1, len(token_list)):\n",
        "            n_gram_sequence = token_list[:i+1]\n",
        "            input_sequences.append(n_gram_sequence)\n",
        "    return input_sequences, total_words"
      ],
      "metadata": {
        "id": "JjJGxkcbxrUi"
      },
      "execution_count": 3,
      "outputs": []
    },
    {
      "cell_type": "code",
      "source": [
        "inp_sequences, total_words = get_sequence_of_tokens(corpus)\n",
        "print(*inp_sequences[:10], sep=\"\\n\")"
      ],
      "metadata": {
        "id": "KeY6f8n5xrkO",
        "colab": {
          "base_uri": "https://localhost:8080/"
        },
        "outputId": "695ce705-fca8-4c80-f3f7-3ec1381fa989"
      },
      "execution_count": 11,
      "outputs": [
        {
          "output_type": "stream",
          "name": "stdout",
          "text": [
            "[169, 17]\n",
            "[169, 17, 665]\n",
            "[169, 17, 665, 367]\n",
            "[169, 17, 665, 367, 4]\n",
            "[169, 17, 665, 367, 4, 2]\n",
            "[169, 17, 665, 367, 4, 2, 666]\n",
            "[169, 17, 665, 367, 4, 2, 666, 170]\n",
            "[169, 17, 665, 367, 4, 2, 666, 170, 5]\n",
            "[169, 17, 665, 367, 4, 2, 666, 170, 5, 667]\n",
            "[6, 80]\n"
          ]
        }
      ]
    },
    {
      "cell_type": "code",
      "source": [
        "#conclusion: inp_sequence is an n-gram seq reqired for training next word prediction"
      ],
      "metadata": {
        "id": "1fbQfZzF1qHc"
      },
      "execution_count": null,
      "outputs": []
    },
    {
      "cell_type": "code",
      "source": [
        "# Padding the sequence:\n",
        "#-variable sequence length is not favourable for Training using padding we make\n",
        "# -every sequence of same length."
      ],
      "metadata": {
        "id": "2VkT_36m1qLW"
      },
      "execution_count": null,
      "outputs": []
    },
    {
      "cell_type": "code",
      "source": [
        "from tensorflow import keras\n",
        "import tensorflow as tf\n",
        "import keras.utils \n",
        "from keras import utils as np_utils\n",
        "from keras.utils.np_utils import to_categorical\n",
        "#from keras.utils.np_utils.to_categorical\n",
        "#from tensorflow.keras.utils import to_categorical\n",
        "import keras\n"
      ],
      "metadata": {
        "id": "_gMUoWWY4gim"
      },
      "execution_count": 31,
      "outputs": []
    },
    {
      "cell_type": "code",
      "source": [
        "def generate_padded_sequences(input_sequences):\n",
        "    max_sequence_len = max([len(x) for x in input_sequences])\n",
        "    input_sequences = np.array(pad_sequences(input_sequences, maxlen=max_sequence_len, padding='pre'))\n",
        "    \n",
        "    predictors, label = input_sequences[:,:-1],input_sequences[:,-1]\n",
        "    label = to_categorical(label, num_classes=total_words)\n",
        "    return predictors, label, max_sequence_len"
      ],
      "metadata": {
        "id": "VSevS6Ve1qOw"
      },
      "execution_count": 32,
      "outputs": []
    },
    {
      "cell_type": "code",
      "source": [
        "predictors, label, max_sequence_len = generate_padded_sequences(inp_sequences)\n",
        "# predictors: are the tokens that will be used as input for predicting the next word\n",
        "# label : next word to be predicted.\n",
        "# max_sequence_len : is the seq length\n",
        "# pad_sequence : is used to pad an array of tokens to same length.\n"
      ],
      "metadata": {
        "id": "96M_1Khr1qSe"
      },
      "execution_count": 33,
      "outputs": []
    },
    {
      "cell_type": "code",
      "source": [
        "# Model Creation :\n",
        "# so far data for Training is prepared!\n",
        "# we will create LSTM model which takes predictors as input X and labels as input Y"
      ],
      "metadata": {
        "id": "mWdbKRHy1qWo"
      },
      "execution_count": null,
      "outputs": []
    },
    {
      "cell_type": "markdown",
      "source": [
        "1. Input Layer: takes input sequence.\n",
        "2. LSTM Layer: It calculates the output using LSTM units and returns hidden and cell states. \n",
        "3. Dropout Layer: This layer is responsible for regularisation which means it prevents over-fitting. this is done by turning off the activations of some neurons in the LSTM layer.\n",
        "4. Output Layer: This Computes the probability of our prediction."
      ],
      "metadata": {
        "id": "I8hW_NNUGq7O"
      }
    },
    {
      "cell_type": "code",
      "source": [
        "def create_model(max_sequence_len, total_words):\n",
        "    input_len = max_sequence_len - 1\n",
        "    model = Sequential()\n",
        "    # ----------Add Input Embedding Layer\n",
        "    model.add(Embedding(total_words, 10, input_length=input_len))\n",
        "    # ----------Add Hidden Layer 1 - LSTM Layer\n",
        "    model.add(LSTM(100))\n",
        "    model.add(Dropout(0.1))\n",
        "    # ----------Add Output Layer\n",
        "    model.add(Dense(total_words, activation='softmax'))\n",
        "    model.compile(loss='categorical_crossentropy', optimizer='adam')\n",
        "    return model"
      ],
      "metadata": {
        "id": "r78X0CC91qZc"
      },
      "execution_count": 34,
      "outputs": []
    },
    {
      "cell_type": "code",
      "source": [
        "model = create_model(max_sequence_len, total_words)\n",
        "model.summary()"
      ],
      "metadata": {
        "colab": {
          "base_uri": "https://localhost:8080/"
        },
        "id": "zSk6AnPy1qck",
        "outputId": "0dfa2750-66f2-4073-b72a-490ff6175add"
      },
      "execution_count": 35,
      "outputs": [
        {
          "output_type": "stream",
          "name": "stdout",
          "text": [
            "Model: \"sequential\"\n",
            "_________________________________________________________________\n",
            " Layer (type)                Output Shape              Param #   \n",
            "=================================================================\n",
            " embedding (Embedding)       (None, 18, 10)            24220     \n",
            "                                                                 \n",
            " lstm (LSTM)                 (None, 100)               44400     \n",
            "                                                                 \n",
            " dropout (Dropout)           (None, 100)               0         \n",
            "                                                                 \n",
            " dense (Dense)               (None, 2422)              244622    \n",
            "                                                                 \n",
            "=================================================================\n",
            "Total params: 313,242\n",
            "Trainable params: 313,242\n",
            "Non-trainable params: 0\n",
            "_________________________________________________________________\n"
          ]
        }
      ]
    },
    {
      "cell_type": "markdown",
      "source": [
        "Training the model"
      ],
      "metadata": {
        "id": "9YU_IeHZH9pc"
      }
    },
    {
      "cell_type": "code",
      "source": [
        "model.fit(predictors, label, epochs=95, verbose=95)"
      ],
      "metadata": {
        "colab": {
          "base_uri": "https://localhost:8080/"
        },
        "id": "xjKdW-tH1qf0",
        "outputId": "4ff92fc2-e50c-4e00-8f11-48c259d1a379"
      },
      "execution_count": 107,
      "outputs": [
        {
          "output_type": "stream",
          "name": "stdout",
          "text": [
            "Epoch 1/95\n",
            "Epoch 2/95\n",
            "Epoch 3/95\n",
            "Epoch 4/95\n",
            "Epoch 5/95\n",
            "Epoch 6/95\n",
            "Epoch 7/95\n",
            "Epoch 8/95\n",
            "Epoch 9/95\n",
            "Epoch 10/95\n",
            "Epoch 11/95\n",
            "Epoch 12/95\n",
            "Epoch 13/95\n",
            "Epoch 14/95\n",
            "Epoch 15/95\n",
            "Epoch 16/95\n",
            "Epoch 17/95\n",
            "Epoch 18/95\n",
            "Epoch 19/95\n",
            "Epoch 20/95\n",
            "Epoch 21/95\n",
            "Epoch 22/95\n",
            "Epoch 23/95\n",
            "Epoch 24/95\n",
            "Epoch 25/95\n",
            "Epoch 26/95\n",
            "Epoch 27/95\n",
            "Epoch 28/95\n",
            "Epoch 29/95\n",
            "Epoch 30/95\n",
            "Epoch 31/95\n",
            "Epoch 32/95\n",
            "Epoch 33/95\n",
            "Epoch 34/95\n",
            "Epoch 35/95\n",
            "Epoch 36/95\n",
            "Epoch 37/95\n",
            "Epoch 38/95\n",
            "Epoch 39/95\n",
            "Epoch 40/95\n",
            "Epoch 41/95\n",
            "Epoch 42/95\n",
            "Epoch 43/95\n",
            "Epoch 44/95\n",
            "Epoch 45/95\n",
            "Epoch 46/95\n",
            "Epoch 47/95\n",
            "Epoch 48/95\n",
            "Epoch 49/95\n",
            "Epoch 50/95\n",
            "Epoch 51/95\n",
            "Epoch 52/95\n",
            "Epoch 53/95\n",
            "Epoch 54/95\n",
            "Epoch 55/95\n",
            "Epoch 56/95\n",
            "Epoch 57/95\n",
            "Epoch 58/95\n",
            "Epoch 59/95\n",
            "Epoch 60/95\n",
            "Epoch 61/95\n",
            "Epoch 62/95\n",
            "Epoch 63/95\n",
            "Epoch 64/95\n",
            "Epoch 65/95\n",
            "Epoch 66/95\n",
            "Epoch 67/95\n",
            "Epoch 68/95\n",
            "Epoch 69/95\n",
            "Epoch 70/95\n",
            "Epoch 71/95\n",
            "Epoch 72/95\n",
            "Epoch 73/95\n",
            "Epoch 74/95\n",
            "Epoch 75/95\n",
            "Epoch 76/95\n",
            "Epoch 77/95\n",
            "Epoch 78/95\n",
            "Epoch 79/95\n",
            "Epoch 80/95\n",
            "Epoch 81/95\n",
            "Epoch 82/95\n",
            "Epoch 83/95\n",
            "Epoch 84/95\n",
            "Epoch 85/95\n",
            "Epoch 86/95\n",
            "Epoch 87/95\n",
            "Epoch 88/95\n",
            "Epoch 89/95\n",
            "Epoch 90/95\n",
            "Epoch 91/95\n",
            "Epoch 92/95\n",
            "Epoch 93/95\n",
            "Epoch 94/95\n",
            "Epoch 95/95\n"
          ]
        },
        {
          "output_type": "execute_result",
          "data": {
            "text/plain": [
              "<keras.callbacks.History at 0x7fa8546ce710>"
            ]
          },
          "metadata": {},
          "execution_count": 107
        }
      ]
    },
    {
      "cell_type": "code",
      "source": [
        "# We have trained our model architecture and now it’s ready to generate text. \n",
        "# We need to write a function to predict the next word based on the input words. \n",
        "# We also have to tokenize the sequence and pad it with the same sequence_length we provided for training, and then we will append each predicted word as a string."
      ],
      "metadata": {
        "id": "VAPHnQhHIOPy"
      },
      "execution_count": null,
      "outputs": []
    },
    {
      "cell_type": "code",
      "source": [
        "def generate_text(seed_text, next_words, model, max_sequence_len):\n",
        "    for _ in range(next_words):\n",
        "        token_list = tokenizer.texts_to_sequences([seed_text])[0]\n",
        "        token_list = pad_sequences([token_list],              maxlen=max_sequence_len-1, padding='pre')\n",
        "        #predicted = model.predict_classes(token_list, verbose=0)\n",
        "        predicted = np.argmax(model.predict(token_list),axis=1)       \n",
        "\n",
        "\n",
        "        output_word = \"\"\n",
        "        for word,index in tokenizer.word_index.items():\n",
        "            if index == predicted:\n",
        "                output_word = word\n",
        "                break\n",
        "        seed_text += \" \"+output_word\n",
        "    return seed_text.title()"
      ],
      "metadata": {
        "id": "IHlOURvpIOVc"
      },
      "execution_count": 108,
      "outputs": []
    },
    {
      "cell_type": "code",
      "source": [
        "# set seeds for reproducability\n",
        "from numpy.random import seed\n",
        "seed(1)\n",
        "from tensorflow import random\n",
        "random.set_seed(2)"
      ],
      "metadata": {
        "id": "oyw-HTvCIOck"
      },
      "execution_count": 109,
      "outputs": []
    },
    {
      "cell_type": "markdown",
      "source": [
        "1. seed_text : it’s the initial words that will be passed for text generation.\n",
        "2. predict_classes: it will return the token id for the predicted word.\n",
        "3. predicted: Its token id for predicted word and this will be converted back into a word using the dictionarytokenizer.word_index .items()\n",
        "4. next_words: It’s the number of next words we want to be predicted.\n"
      ],
      "metadata": {
        "id": "gCroOF2nLZ9S"
      }
    },
    {
      "cell_type": "code",
      "source": [
        "print (generate_text(\"finding an expansive view  of a forgotten\", 3, model, max_sequence_len))\n",
        "print (generate_text(\"venezuelas\", 3, model, max_sequence_len))\n",
        "print (generate_text(\"stain\", 4, model, max_sequence_len))\n",
        "print (generate_text(\"taking things\", 2, model, max_sequence_len))\n",
        "print (generate_text(\"oreilly\", 3, model, max_sequence_len))\n",
        "print (generate_text(\"divide in gop\", 5, model, max_sequence_len))"
      ],
      "metadata": {
        "colab": {
          "base_uri": "https://localhost:8080/"
        },
        "id": "3kHwKHkFMl9o",
        "outputId": "98e01973-e55f-4ea6-d99f-ec5e85b0aad7"
      },
      "execution_count": 110,
      "outputs": [
        {
          "output_type": "stream",
          "name": "stdout",
          "text": [
            "Finding An Expansive View  Of A Forgotten People In Niger\n",
            "Venezuelas Descent Into Dictatorship\n",
            "Stain Permeates Basketball Blue Blood\n",
            "Taking Things For Granted\n",
            "Oreilly Thrives As Settlements\n",
            "Divide In Gop Now Threatens Trump Tax Plan\n"
          ]
        }
      ]
    },
    {
      "cell_type": "code",
      "source": [
        "# Conclusion: \n",
        "# implemented text generation using LSTM model\n",
        "# The Trained model worked perfectly. \n"
      ],
      "metadata": {
        "id": "hRvYedpiMmQq"
      },
      "execution_count": null,
      "outputs": []
    },
    {
      "cell_type": "code",
      "source": [
        ""
      ],
      "metadata": {
        "id": "9IvIGyanMmUq"
      },
      "execution_count": null,
      "outputs": []
    },
    {
      "cell_type": "code",
      "source": [
        ""
      ],
      "metadata": {
        "id": "BErc50YHMmZg"
      },
      "execution_count": null,
      "outputs": []
    }
  ]
}