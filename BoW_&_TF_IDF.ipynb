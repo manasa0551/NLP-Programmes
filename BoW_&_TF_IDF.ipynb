{
  "nbformat": 4,
  "nbformat_minor": 0,
  "metadata": {
    "colab": {
      "name": "BoW & TF_IDF.ipynb",
      "provenance": []
    },
    "kernelspec": {
      "name": "python3",
      "display_name": "Python 3"
    },
    "language_info": {
      "name": "python"
    }
  },
  "cells": [
    {
      "cell_type": "code",
      "execution_count": null,
      "metadata": {
        "id": "jbvKt9aWTe-I"
      },
      "outputs": [],
      "source": [
        "# CountVectorizer() function from the Sk-learn library to easily implement the above BoW model using Python."
      ]
    },
    {
      "cell_type": "markdown",
      "source": [
        "Bag of Words Model with Sklearn"
      ],
      "metadata": {
        "id": "4Yd0IYbwYITj"
      }
    },
    {
      "cell_type": "code",
      "source": [
        "import pandas as pd\n",
        "from sklearn.feature_extraction.text import CountVectorizer, TfidfVectorizer"
      ],
      "metadata": {
        "id": "kgMPqnY_TjZf"
      },
      "execution_count": 2,
      "outputs": []
    },
    {
      "cell_type": "code",
      "source": [
        "sentence_1=\"This is a night job. I will not miss it for anything\"\n",
        "sentence_2=\"This is not good at all\"\n",
        " "
      ],
      "metadata": {
        "id": "H9qt7KdfTjdO"
      },
      "execution_count": 3,
      "outputs": []
    },
    {
      "cell_type": "code",
      "source": [
        "# # to use bigrams ngram_range=(2,2)\n",
        "CountVec = CountVectorizer(ngram_range=(1,1), \n",
        "                           stop_words='english')\n",
        "#transform\n",
        "Count_data = CountVec.fit_transform([sentence_1,sentence_2])\n",
        " \n",
        "#create dataframe\n",
        "cv_dataframe=pd.DataFrame(Count_data.toarray(),columns=CountVec.get_feature_names())\n",
        "print(cv_dataframe)"
      ],
      "metadata": {
        "colab": {
          "base_uri": "https://localhost:8080/"
        },
        "id": "YUVQTkiuTjn1",
        "outputId": "4935ca31-4d91-4667-8fbe-4539742ae2bb"
      },
      "execution_count": 4,
      "outputs": [
        {
          "output_type": "stream",
          "name": "stdout",
          "text": [
            "   good  job  miss  night\n",
            "0     0    1     1      1\n",
            "1     1    0     0      0\n"
          ]
        },
        {
          "output_type": "stream",
          "name": "stderr",
          "text": [
            "/usr/local/lib/python3.7/dist-packages/sklearn/utils/deprecation.py:87: FutureWarning: Function get_feature_names is deprecated; get_feature_names is deprecated in 1.0 and will be removed in 1.2. Please use get_feature_names_out instead.\n",
            "  warnings.warn(msg, category=FutureWarning)\n"
          ]
        }
      ]
    },
    {
      "cell_type": "markdown",
      "source": [
        "Tf-Idf (Term frequency-Inverse Document frequency)"
      ],
      "metadata": {
        "id": "sNv1MlULZ7ha"
      }
    },
    {
      "cell_type": "code",
      "source": [
        "import pandas as pd\n",
        "from sklearn.feature_extraction.text import CountVectorizer, TfidfVectorizer"
      ],
      "metadata": {
        "id": "iiwQH0nMZ4GE"
      },
      "execution_count": 5,
      "outputs": []
    },
    {
      "cell_type": "code",
      "source": [
        "sentence_1=\"This is a night job.I will not miss it for anything\"\n",
        "sentence_2=\"This is not good at all\""
      ],
      "metadata": {
        "id": "uY1sdTxJZ4IZ"
      },
      "execution_count": 6,
      "outputs": []
    },
    {
      "cell_type": "code",
      "source": [
        "# without smooth IDF\n",
        "print(\"Without Smoothing:\")\n",
        "# define tf-idf\n",
        "tf_idf_vec = TfidfVectorizer(use_idf=True, \n",
        "                        smooth_idf=False,  \n",
        "                        # to use only  bigrams ngram_range=(2,2)\n",
        "                        ngram_range=(1,1),stop_words='english')"
      ],
      "metadata": {
        "colab": {
          "base_uri": "https://localhost:8080/"
        },
        "id": "gAVIausrZ4Lb",
        "outputId": "93eab808-7dbe-4656-b437-eeaee0720c98"
      },
      "execution_count": 7,
      "outputs": [
        {
          "output_type": "stream",
          "name": "stdout",
          "text": [
            "Without Smoothing:\n"
          ]
        }
      ]
    },
    {
      "cell_type": "code",
      "source": [
        "#transform\n",
        "tf_idf_data = tf_idf_vec.fit_transform([sentence_1,sentence_2])"
      ],
      "metadata": {
        "id": "IPrafOu7Z4Oe"
      },
      "execution_count": 8,
      "outputs": []
    },
    {
      "cell_type": "code",
      "source": [
        "#create dataframe\n",
        "tf_idf_dataframe=pd.DataFrame(tf_idf_data.toarray(),columns=tf_idf_vec.get_feature_names())\n",
        "print(tf_idf_dataframe)\n",
        "print(\"\\n\")\n",
        " "
      ],
      "metadata": {
        "colab": {
          "base_uri": "https://localhost:8080/"
        },
        "id": "YoJsm2yaZ4RJ",
        "outputId": "237a1173-5a72-4012-f92f-09f4119c81a8"
      },
      "execution_count": 9,
      "outputs": [
        {
          "output_type": "stream",
          "name": "stdout",
          "text": [
            "   good      job     miss    night\n",
            "0   0.0  0.57735  0.57735  0.57735\n",
            "1   1.0  0.00000  0.00000  0.00000\n",
            "\n",
            "\n"
          ]
        },
        {
          "output_type": "stream",
          "name": "stderr",
          "text": [
            "/usr/local/lib/python3.7/dist-packages/sklearn/utils/deprecation.py:87: FutureWarning: Function get_feature_names is deprecated; get_feature_names is deprecated in 1.0 and will be removed in 1.2. Please use get_feature_names_out instead.\n",
            "  warnings.warn(msg, category=FutureWarning)\n"
          ]
        }
      ]
    },
    {
      "cell_type": "code",
      "source": [
        "# with smooth\n",
        "tf_idf_vec_smooth = TfidfVectorizer(use_idf=True,  \n",
        "                        smooth_idf=True,  \n",
        "                        ngram_range=(1,1),stop_words='english')\n",
        "\n",
        "tf_idf_data_smooth = tf_idf_vec_smooth.fit_transform([sentence_1,sentence_2])"
      ],
      "metadata": {
        "id": "AWgFtelaZ4UM"
      },
      "execution_count": 11,
      "outputs": []
    },
    {
      "cell_type": "code",
      "source": [
        "print(\"With Smoothing:\")\n",
        "tf_idf_dataframe_smooth=pd.DataFrame(tf_idf_data_smooth.toarray(),columns=tf_idf_vec_smooth.get_feature_names())\n",
        "print(tf_idf_dataframe_smooth)"
      ],
      "metadata": {
        "colab": {
          "base_uri": "https://localhost:8080/"
        },
        "id": "sgLE5L_EZ4Wp",
        "outputId": "f4cb3986-cd1a-4b1f-fd6c-1d3c603f2ef7"
      },
      "execution_count": 12,
      "outputs": [
        {
          "output_type": "stream",
          "name": "stdout",
          "text": [
            "With Smoothing:\n",
            "   good      job     miss    night\n",
            "0   0.0  0.57735  0.57735  0.57735\n",
            "1   1.0  0.00000  0.00000  0.00000\n"
          ]
        },
        {
          "output_type": "stream",
          "name": "stderr",
          "text": [
            "/usr/local/lib/python3.7/dist-packages/sklearn/utils/deprecation.py:87: FutureWarning: Function get_feature_names is deprecated; get_feature_names is deprecated in 1.0 and will be removed in 1.2. Please use get_feature_names_out instead.\n",
            "  warnings.warn(msg, category=FutureWarning)\n"
          ]
        }
      ]
    },
    {
      "cell_type": "code",
      "source": [
        ""
      ],
      "metadata": {
        "id": "dXIwVmkEZ4Zw"
      },
      "execution_count": null,
      "outputs": []
    },
    {
      "cell_type": "code",
      "source": [
        ""
      ],
      "metadata": {
        "id": "omLZr17bZ4qO"
      },
      "execution_count": null,
      "outputs": []
    },
    {
      "cell_type": "code",
      "source": [
        ""
      ],
      "metadata": {
        "id": "vRdGZNkFZ4tZ"
      },
      "execution_count": null,
      "outputs": []
    },
    {
      "cell_type": "code",
      "source": [
        ""
      ],
      "metadata": {
        "id": "8cpBSDjiTjrN"
      },
      "execution_count": null,
      "outputs": []
    }
  ]
}