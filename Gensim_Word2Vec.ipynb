{
  "nbformat": 4,
  "nbformat_minor": 0,
  "metadata": {
    "colab": {
      "name": "Gensim Word2Vec.ipynb",
      "provenance": [],
      "collapsed_sections": []
    },
    "kernelspec": {
      "name": "python3",
      "display_name": "Python 3"
    },
    "language_info": {
      "name": "python"
    },
    "accelerator": "GPU"
  },
  "cells": [
    {
      "cell_type": "markdown",
      "source": [
        "# The Meaning of a word can be inferred by the company it Keeps\n",
        "# \" Show me your friends and i ll tell who are you\"."
      ],
      "metadata": {
        "id": "_PB8JS4_RnFx"
      }
    },
    {
      "cell_type": "code",
      "execution_count": null,
      "metadata": {
        "id": "_isTYw9vLQ5s"
      },
      "outputs": [],
      "source": [
        "\n",
        "import gensim\n",
        "import re\n",
        "import pandas as pd\n",
        "from time import time\n",
        "from collections import defaultdict\n",
        "import spacy\n",
        "import logging"
      ]
    },
    {
      "cell_type": "code",
      "source": [
        "# The Secret to get word2vec is by having a lot and lots of text data."
      ],
      "metadata": {
        "id": "wvCNjPjBLTct"
      },
      "execution_count": null,
      "outputs": []
    },
    {
      "cell_type": "code",
      "source": [
        "logging.basicConfig(format=\"%(levelname)s - %(asctime)s: %(message)s\", \n",
        "                    datefmt= '%H:%M:%S', \n",
        "                    level=logging.INFO)"
      ],
      "metadata": {
        "id": "RdzQja3ORThx"
      },
      "execution_count": null,
      "outputs": []
    },
    {
      "cell_type": "code",
      "source": [
        "df = pd.read_csv('simpsons_dataset.csv')"
      ],
      "metadata": {
        "id": "q3cKZ4WhRRzh"
      },
      "execution_count": null,
      "outputs": []
    },
    {
      "cell_type": "code",
      "source": [
        "df.head()"
      ],
      "metadata": {
        "id": "DIjPL1i_LTg2",
        "colab": {
          "base_uri": "https://localhost:8080/",
          "height": 206
        },
        "outputId": "6ebdb1df-2e53-4b49-b9ac-138a4d5b52a0"
      },
      "execution_count": null,
      "outputs": [
        {
          "output_type": "execute_result",
          "data": {
            "text/plain": [
              "        raw_character_text                                       spoken_words\n",
              "0              Miss Hoover  No, actually, it was a little of both. Sometim...\n",
              "1             Lisa Simpson                             Where's Mr. Bergstrom?\n",
              "2              Miss Hoover  I don't know. Although I'd sure like to talk t...\n",
              "3             Lisa Simpson                         That life is worth living.\n",
              "4  Edna Krabappel-Flanders  The polls will be open from now until the end ..."
            ],
            "text/html": [
              "\n",
              "  <div id=\"df-59fcff1d-41ad-4278-9d85-5ebeca6f21ab\">\n",
              "    <div class=\"colab-df-container\">\n",
              "      <div>\n",
              "<style scoped>\n",
              "    .dataframe tbody tr th:only-of-type {\n",
              "        vertical-align: middle;\n",
              "    }\n",
              "\n",
              "    .dataframe tbody tr th {\n",
              "        vertical-align: top;\n",
              "    }\n",
              "\n",
              "    .dataframe thead th {\n",
              "        text-align: right;\n",
              "    }\n",
              "</style>\n",
              "<table border=\"1\" class=\"dataframe\">\n",
              "  <thead>\n",
              "    <tr style=\"text-align: right;\">\n",
              "      <th></th>\n",
              "      <th>raw_character_text</th>\n",
              "      <th>spoken_words</th>\n",
              "    </tr>\n",
              "  </thead>\n",
              "  <tbody>\n",
              "    <tr>\n",
              "      <th>0</th>\n",
              "      <td>Miss Hoover</td>\n",
              "      <td>No, actually, it was a little of both. Sometim...</td>\n",
              "    </tr>\n",
              "    <tr>\n",
              "      <th>1</th>\n",
              "      <td>Lisa Simpson</td>\n",
              "      <td>Where's Mr. Bergstrom?</td>\n",
              "    </tr>\n",
              "    <tr>\n",
              "      <th>2</th>\n",
              "      <td>Miss Hoover</td>\n",
              "      <td>I don't know. Although I'd sure like to talk t...</td>\n",
              "    </tr>\n",
              "    <tr>\n",
              "      <th>3</th>\n",
              "      <td>Lisa Simpson</td>\n",
              "      <td>That life is worth living.</td>\n",
              "    </tr>\n",
              "    <tr>\n",
              "      <th>4</th>\n",
              "      <td>Edna Krabappel-Flanders</td>\n",
              "      <td>The polls will be open from now until the end ...</td>\n",
              "    </tr>\n",
              "  </tbody>\n",
              "</table>\n",
              "</div>\n",
              "      <button class=\"colab-df-convert\" onclick=\"convertToInteractive('df-59fcff1d-41ad-4278-9d85-5ebeca6f21ab')\"\n",
              "              title=\"Convert this dataframe to an interactive table.\"\n",
              "              style=\"display:none;\">\n",
              "        \n",
              "  <svg xmlns=\"http://www.w3.org/2000/svg\" height=\"24px\"viewBox=\"0 0 24 24\"\n",
              "       width=\"24px\">\n",
              "    <path d=\"M0 0h24v24H0V0z\" fill=\"none\"/>\n",
              "    <path d=\"M18.56 5.44l.94 2.06.94-2.06 2.06-.94-2.06-.94-.94-2.06-.94 2.06-2.06.94zm-11 1L8.5 8.5l.94-2.06 2.06-.94-2.06-.94L8.5 2.5l-.94 2.06-2.06.94zm10 10l.94 2.06.94-2.06 2.06-.94-2.06-.94-.94-2.06-.94 2.06-2.06.94z\"/><path d=\"M17.41 7.96l-1.37-1.37c-.4-.4-.92-.59-1.43-.59-.52 0-1.04.2-1.43.59L10.3 9.45l-7.72 7.72c-.78.78-.78 2.05 0 2.83L4 21.41c.39.39.9.59 1.41.59.51 0 1.02-.2 1.41-.59l7.78-7.78 2.81-2.81c.8-.78.8-2.07 0-2.86zM5.41 20L4 18.59l7.72-7.72 1.47 1.35L5.41 20z\"/>\n",
              "  </svg>\n",
              "      </button>\n",
              "      \n",
              "  <style>\n",
              "    .colab-df-container {\n",
              "      display:flex;\n",
              "      flex-wrap:wrap;\n",
              "      gap: 12px;\n",
              "    }\n",
              "\n",
              "    .colab-df-convert {\n",
              "      background-color: #E8F0FE;\n",
              "      border: none;\n",
              "      border-radius: 50%;\n",
              "      cursor: pointer;\n",
              "      display: none;\n",
              "      fill: #1967D2;\n",
              "      height: 32px;\n",
              "      padding: 0 0 0 0;\n",
              "      width: 32px;\n",
              "    }\n",
              "\n",
              "    .colab-df-convert:hover {\n",
              "      background-color: #E2EBFA;\n",
              "      box-shadow: 0px 1px 2px rgba(60, 64, 67, 0.3), 0px 1px 3px 1px rgba(60, 64, 67, 0.15);\n",
              "      fill: #174EA6;\n",
              "    }\n",
              "\n",
              "    [theme=dark] .colab-df-convert {\n",
              "      background-color: #3B4455;\n",
              "      fill: #D2E3FC;\n",
              "    }\n",
              "\n",
              "    [theme=dark] .colab-df-convert:hover {\n",
              "      background-color: #434B5C;\n",
              "      box-shadow: 0px 1px 3px 1px rgba(0, 0, 0, 0.15);\n",
              "      filter: drop-shadow(0px 1px 2px rgba(0, 0, 0, 0.3));\n",
              "      fill: #FFFFFF;\n",
              "    }\n",
              "  </style>\n",
              "\n",
              "      <script>\n",
              "        const buttonEl =\n",
              "          document.querySelector('#df-59fcff1d-41ad-4278-9d85-5ebeca6f21ab button.colab-df-convert');\n",
              "        buttonEl.style.display =\n",
              "          google.colab.kernel.accessAllowed ? 'block' : 'none';\n",
              "\n",
              "        async function convertToInteractive(key) {\n",
              "          const element = document.querySelector('#df-59fcff1d-41ad-4278-9d85-5ebeca6f21ab');\n",
              "          const dataTable =\n",
              "            await google.colab.kernel.invokeFunction('convertToInteractive',\n",
              "                                                     [key], {});\n",
              "          if (!dataTable) return;\n",
              "\n",
              "          const docLinkHtml = 'Like what you see? Visit the ' +\n",
              "            '<a target=\"_blank\" href=https://colab.research.google.com/notebooks/data_table.ipynb>data table notebook</a>'\n",
              "            + ' to learn more about interactive tables.';\n",
              "          element.innerHTML = '';\n",
              "          dataTable['output_type'] = 'display_data';\n",
              "          await google.colab.output.renderOutput(dataTable, element);\n",
              "          const docLink = document.createElement('div');\n",
              "          docLink.innerHTML = docLinkHtml;\n",
              "          element.appendChild(docLink);\n",
              "        }\n",
              "      </script>\n",
              "    </div>\n",
              "  </div>\n",
              "  "
            ]
          },
          "metadata": {},
          "execution_count": 4
        }
      ]
    },
    {
      "cell_type": "code",
      "source": [
        "df.isnull().sum()"
      ],
      "metadata": {
        "id": "5cftxA3CLTlF",
        "colab": {
          "base_uri": "https://localhost:8080/"
        },
        "outputId": "e8da953e-f47a-41f0-9aab-26aa86d43d91"
      },
      "execution_count": null,
      "outputs": [
        {
          "output_type": "execute_result",
          "data": {
            "text/plain": [
              "raw_character_text    16085\n",
              "spoken_words          24077\n",
              "dtype: int64"
            ]
          },
          "metadata": {},
          "execution_count": 5
        }
      ]
    },
    {
      "cell_type": "code",
      "source": [
        "# Remooving missing values\n",
        "df = df.dropna().reset_index(drop=True)\n",
        "df.isnull().sum()"
      ],
      "metadata": {
        "id": "jxcZq9BnLToZ",
        "colab": {
          "base_uri": "https://localhost:8080/"
        },
        "outputId": "066b54b6-2700-4fc2-8eb9-4451822c916d"
      },
      "execution_count": null,
      "outputs": [
        {
          "output_type": "execute_result",
          "data": {
            "text/plain": [
              "raw_character_text    0\n",
              "spoken_words          0\n",
              "dtype: int64"
            ]
          },
          "metadata": {},
          "execution_count": 6
        }
      ]
    },
    {
      "cell_type": "code",
      "source": [
        "# cleaning\n",
        "#Diabeling Named entity recognition for speed\n",
        "nlp = spacy.load('en', disable=['ner', 'parser'])\n",
        "def cleaning(doc):\n",
        "    # Lemmatizes and removes stopwords\n",
        "    # doc needs to be a spacy Doc object\n",
        "    txt = [token.lemma_ for token in doc if not token.is_stop]\n",
        "    # Word2Vec uses context words to learn the vector representation of a target word,\n",
        "    # if a sentence is only one or two words long,\n",
        "    # the benefit for the training is very small\n",
        "    if len(txt) > 2:\n",
        "        return ' '.join(txt) "
      ],
      "metadata": {
        "id": "3yK9aGFnLTry"
      },
      "execution_count": null,
      "outputs": []
    },
    {
      "cell_type": "code",
      "source": [
        "#Removes non-alphabetic characters:\n",
        "brief_cleaning = (re.sub(\"[^A-Za-z']+\", ' ', str(row)).lower() for row in df['spoken_words'])"
      ],
      "metadata": {
        "id": "0QLaqulSLTu4"
      },
      "execution_count": null,
      "outputs": []
    },
    {
      "cell_type": "code",
      "source": [
        "# Taking advantage of spaCy .pipe() attribute to speed-up the cleaning process:\n",
        "t = time()\n",
        "\n",
        "txt = [cleaning(doc) for doc in nlp.pipe(brief_cleaning, batch_size=5000, n_threads=-1)]\n",
        "\n",
        "print('Time to clean up everything: {} mins'.format(round((time() - t) / 60, 2)))"
      ],
      "metadata": {
        "colab": {
          "base_uri": "https://localhost:8080/"
        },
        "id": "HZbAtr1Sn3EN",
        "outputId": "647bc23b-03d8-45e3-c9a2-74f853910bb1"
      },
      "execution_count": null,
      "outputs": [
        {
          "output_type": "stream",
          "name": "stdout",
          "text": [
            "Time to clean up everything: 0.93 mins\n"
          ]
        }
      ]
    },
    {
      "cell_type": "code",
      "source": [
        "# Put the results in a DataFrame to remove missing values and duplicates:\n",
        "df_clean = pd.DataFrame({'clean': txt})\n",
        "df_clean = df_clean.dropna().drop_duplicates()\n",
        "df_clean.shape"
      ],
      "metadata": {
        "colab": {
          "base_uri": "https://localhost:8080/"
        },
        "id": "eE4NqVq_n3P7",
        "outputId": "cac95f51-8e6a-4d9b-cc17-cbf773c6a5db"
      },
      "execution_count": null,
      "outputs": [
        {
          "output_type": "execute_result",
          "data": {
            "text/plain": [
              "(77393, 1)"
            ]
          },
          "metadata": {},
          "execution_count": 10
        }
      ]
    },
    {
      "cell_type": "code",
      "source": [
        "# We are using Gensim Phrases package to automatically detect common \n",
        "# phrases (bigrams) from a list of sentences.\n",
        "# The main reason we do this is to catch words like \"mr_burns\" or \"bart_simpson\" !"
      ],
      "metadata": {
        "id": "JG1WG92Qn3W2"
      },
      "execution_count": null,
      "outputs": []
    },
    {
      "cell_type": "code",
      "source": [
        "from gensim.models.phrases import Phrases, Phraser"
      ],
      "metadata": {
        "id": "rLLDKcXPn3az"
      },
      "execution_count": null,
      "outputs": []
    },
    {
      "cell_type": "code",
      "source": [
        "# As Phrases() takes a list of list of words as input:\n",
        "sent = [row.split() for row in df_clean['clean']]"
      ],
      "metadata": {
        "id": "Zh14Gh7-n3fH"
      },
      "execution_count": null,
      "outputs": []
    },
    {
      "cell_type": "code",
      "source": [
        "# Creates the relevant phrases from the list of sentences:\n",
        "phrases = Phrases(sent, min_count=30, progress_per=10000)"
      ],
      "metadata": {
        "colab": {
          "base_uri": "https://localhost:8080/"
        },
        "id": "EUP_yA1qn3it",
        "outputId": "d4334d6a-33ea-48c4-95b8-10fbb5d35271"
      },
      "execution_count": null,
      "outputs": [
        {
          "output_type": "stream",
          "name": "stderr",
          "text": [
            "INFO - 08:50:01: collecting all words and their counts\n",
            "INFO - 08:50:01: PROGRESS: at sentence #0, processed 0 words and 0 word types\n",
            "INFO - 08:50:01: PROGRESS: at sentence #10000, processed 63561 words and 52816 word types\n",
            "INFO - 08:50:01: PROGRESS: at sentence #20000, processed 130943 words and 99866 word types\n",
            "INFO - 08:50:01: PROGRESS: at sentence #30000, processed 192972 words and 138532 word types\n",
            "INFO - 08:50:01: PROGRESS: at sentence #40000, processed 249842 words and 172659 word types\n",
            "INFO - 08:50:01: PROGRESS: at sentence #50000, processed 311265 words and 208566 word types\n",
            "INFO - 08:50:02: PROGRESS: at sentence #60000, processed 373588 words and 243702 word types\n",
            "INFO - 08:50:02: PROGRESS: at sentence #70000, processed 436441 words and 278740 word types\n",
            "INFO - 08:50:02: collected 303406 word types from a corpus of 481866 words (unigram + bigrams) and 77393 sentences\n",
            "INFO - 08:50:02: using 303406 counts as vocab in Phrases<0 vocab, min_count=30, threshold=10.0, max_vocab_size=40000000>\n"
          ]
        }
      ]
    },
    {
      "cell_type": "code",
      "source": [
        "# The goal of Phraser() is to cut down memory consumption of Phrases(), \n",
        "# by discarding model state not strictly needed for the bigram detection task:\n",
        "bigram = Phraser(phrases)"
      ],
      "metadata": {
        "colab": {
          "base_uri": "https://localhost:8080/"
        },
        "id": "nzD4xk6in3mH",
        "outputId": "e10ae51f-d9fe-4620-e1bd-cecc601b2ecf"
      },
      "execution_count": null,
      "outputs": [
        {
          "output_type": "stream",
          "name": "stderr",
          "text": [
            "INFO - 08:52:01: source_vocab length 303406\n",
            "INFO - 08:52:03: Phraser built with 108 phrasegrams\n"
          ]
        }
      ]
    },
    {
      "cell_type": "code",
      "source": [
        "# Transform the corpus based on the bigrams detected:\n",
        "sentences = bigram[sent]"
      ],
      "metadata": {
        "id": "DyCTgVFIn3pE"
      },
      "execution_count": null,
      "outputs": []
    },
    {
      "cell_type": "code",
      "source": [
        "# checking for most frequent words:\n",
        "# check of the effectiveness of the lemmatization, removal of stopwords, and addition of bigrams.\n",
        "word_freq = defaultdict(int)\n",
        "for sent in sentences:\n",
        "    for i in sent:\n",
        "        word_freq[i] += 1\n",
        "len(word_freq)"
      ],
      "metadata": {
        "colab": {
          "base_uri": "https://localhost:8080/"
        },
        "id": "LHSmzOf6qnkc",
        "outputId": "4bd02c22-1726-43e6-b226-ac78fc57c2d4"
      },
      "execution_count": null,
      "outputs": [
        {
          "output_type": "execute_result",
          "data": {
            "text/plain": [
              "28789"
            ]
          },
          "metadata": {},
          "execution_count": 16
        }
      ]
    },
    {
      "cell_type": "code",
      "source": [
        "sorted(word_freq, key=word_freq.get, reverse=True)[:10]"
      ],
      "metadata": {
        "colab": {
          "base_uri": "https://localhost:8080/"
        },
        "id": "ohrJVC6lqnoD",
        "outputId": "82125250-4575-492f-bddb-067b52222b97"
      },
      "execution_count": null,
      "outputs": [
        {
          "output_type": "execute_result",
          "data": {
            "text/plain": [
              "['oh', 'like', 'know', 'get', 'hey', 'think', 'look', 'right', 'want', 'come']"
            ]
          },
          "metadata": {},
          "execution_count": 17
        }
      ]
    },
    {
      "cell_type": "markdown",
      "source": [
        "Training the model"
      ],
      "metadata": {
        "id": "79buE3MDrT_r"
      }
    },
    {
      "cell_type": "code",
      "source": [
        "# using Gensim implementation of word2vec\n",
        "import multiprocessing\n",
        "from gensim.models import Word2Vec"
      ],
      "metadata": {
        "id": "ifZttQddqn1k"
      },
      "execution_count": null,
      "outputs": []
    },
    {
      "cell_type": "markdown",
      "source": [
        "we will separate the training in 3 distinctive steps for clarity and monitoring.\n",
        "1.Word2Vec():\n",
        "In this first step, set up the parameters of the model one-by-one.\n",
        "we do not supply the parameter sentences, and therefore leave the model uninitialized, purposefully.\n",
        "2.build_vocab():\n",
        "it builds the vocabulary from a sequence of sentences and thus initialized the model.\n",
        "With the loggings, we can follow the progress and even more important, the effect of min_count and sample on the word corpus. I noticed that these two parameters, and in particular sample, have a great influence over the performance of a model. Displaying both allows for a more accurate and an easier management of their influence.\n",
        "3.train():\n",
        "Finally, trains the model.\n",
        "The loggings here are mainly useful for monitoring, making sure that no threads are executed instantaneously."
      ],
      "metadata": {
        "id": "Yi-CIwgCs5zL"
      }
    },
    {
      "cell_type": "code",
      "source": [
        "# Count the number of cores in a computer\n",
        "cores = multiprocessing.cpu_count()\n"
      ],
      "metadata": {
        "id": "rbDX2zK4rnSi"
      },
      "execution_count": null,
      "outputs": []
    },
    {
      "cell_type": "code",
      "source": [
        "w2v_model = Word2Vec(min_count=20,\n",
        "                     window=2,\n",
        "                     size=300,\n",
        "                     sample=6e-5, \n",
        "                     alpha=0.03, \n",
        "                     min_alpha=0.0007, \n",
        "                     negative=20,\n",
        "                     workers=cores-1)"
      ],
      "metadata": {
        "id": "Ptv6x1LkrnWY"
      },
      "execution_count": null,
      "outputs": []
    },
    {
      "cell_type": "markdown",
      "source": [
        "Building the Vocabulary Table:\n",
        "Word2Vec requires us to build the vocabulary table (simply digesting all the words and filtering out the unique words, and doing some basic counts on them):"
      ],
      "metadata": {
        "id": "w5oe0iijuok1"
      }
    },
    {
      "cell_type": "code",
      "source": [
        "t = time()\n",
        "\n",
        "w2v_model.build_vocab(sentences, progress_per=10000)\n",
        "\n",
        "print('Time to build vocab: {} mins'.format(round((time() - t) / 60, 2)))"
      ],
      "metadata": {
        "colab": {
          "base_uri": "https://localhost:8080/"
        },
        "id": "Std1pHjLrnd_",
        "outputId": "7ddf0006-445c-42ed-ffc5-2c5be8af9c1d"
      },
      "execution_count": null,
      "outputs": [
        {
          "output_type": "stream",
          "name": "stderr",
          "text": [
            "INFO - 09:10:46: collecting all words and their counts\n",
            "INFO - 09:10:46: PROGRESS: at sentence #0, processed 0 words, keeping 0 word types\n",
            "INFO - 09:10:46: PROGRESS: at sentence #10000, processed 61795 words, keeping 9543 word types\n",
            "INFO - 09:10:46: PROGRESS: at sentence #20000, processed 127517 words, keeping 14491 word types\n",
            "INFO - 09:10:46: PROGRESS: at sentence #30000, processed 188069 words, keeping 17603 word types\n",
            "INFO - 09:10:46: PROGRESS: at sentence #40000, processed 243639 words, keeping 20368 word types\n",
            "INFO - 09:10:47: PROGRESS: at sentence #50000, processed 303575 words, keeping 22861 word types\n",
            "INFO - 09:10:47: PROGRESS: at sentence #60000, processed 364391 words, keeping 25182 word types\n",
            "INFO - 09:10:47: PROGRESS: at sentence #70000, processed 425922 words, keeping 27383 word types\n",
            "INFO - 09:10:47: collected 28789 word types from a corpus of 470437 raw words and 77393 sentences\n",
            "INFO - 09:10:47: Loading a fresh vocabulary\n",
            "INFO - 09:10:47: effective_min_count=20 retains 3079 unique words (10% of original 28789, drops 25710)\n",
            "INFO - 09:10:47: effective_min_count=20 leaves 388510 word corpus (82% of original 470437, drops 81927)\n",
            "INFO - 09:10:47: deleting the raw counts dictionary of 28789 items\n",
            "INFO - 09:10:47: sample=6e-05 downsamples 1212 most-common words\n",
            "INFO - 09:10:47: downsampling leaves estimated 174083 word corpus (44.8% of prior 388510)\n",
            "INFO - 09:10:47: estimated required memory for 3079 words and 300 dimensions: 8929100 bytes\n",
            "INFO - 09:10:47: resetting layer weights\n"
          ]
        },
        {
          "output_type": "stream",
          "name": "stdout",
          "text": [
            "Time to build vocab: 0.03 mins\n"
          ]
        }
      ]
    },
    {
      "cell_type": "code",
      "source": [
        "#Training of the model:\n",
        "#Parameters of the training:\n",
        "\n",
        "total_examples = int #Count of sentences;\n",
        "epochs = int  #Number of iterations (epochs) over the corpus - [10, 20, 30]"
      ],
      "metadata": {
        "id": "oSr3UidTqn5P"
      },
      "execution_count": null,
      "outputs": []
    },
    {
      "cell_type": "code",
      "source": [
        "t = time()\n",
        "\n",
        "w2v_model.train(sentences, total_examples=w2v_model.corpus_count, epochs=30, report_delay=1)\n",
        "\n",
        "print('Time to train the model: {} mins'.format(round((time() - t) / 60, 2)))"
      ],
      "metadata": {
        "colab": {
          "base_uri": "https://localhost:8080/"
        },
        "id": "GpNPxt4Lqn82",
        "outputId": "7d0e4430-ea10-46ef-a3e9-3ae4f3755bd4"
      },
      "execution_count": null,
      "outputs": [
        {
          "output_type": "stream",
          "name": "stderr",
          "text": [
            "INFO - 09:14:04: training model with 1 workers on 3079 vocabulary and 300 features, using sg=0 hs=0 sample=6e-05 negative=20 window=2\n",
            "INFO - 09:14:05: EPOCH 1 - PROGRESS: at 41.49% examples, 72236 words/s, in_qsize 0, out_qsize 0\n",
            "INFO - 09:14:06: EPOCH 1 - PROGRESS: at 91.28% examples, 77174 words/s, in_qsize 1, out_qsize 0\n",
            "INFO - 09:14:06: worker thread finished; awaiting finish of 0 more threads\n",
            "INFO - 09:14:06: EPOCH - 1 : training on 470437 raw words (173882 effective words) took 2.2s, 78462 effective words/s\n",
            "INFO - 09:14:07: EPOCH 2 - PROGRESS: at 43.68% examples, 76754 words/s, in_qsize 0, out_qsize 0\n",
            "INFO - 09:14:08: EPOCH 2 - PROGRESS: at 91.28% examples, 78883 words/s, in_qsize 0, out_qsize 0\n",
            "INFO - 09:14:09: worker thread finished; awaiting finish of 0 more threads\n",
            "INFO - 09:14:09: EPOCH - 2 : training on 470437 raw words (174094 effective words) took 2.2s, 79377 effective words/s\n",
            "INFO - 09:14:10: EPOCH 3 - PROGRESS: at 46.07% examples, 77557 words/s, in_qsize 0, out_qsize 0\n",
            "INFO - 09:14:11: EPOCH 3 - PROGRESS: at 84.98% examples, 70806 words/s, in_qsize 0, out_qsize 0\n",
            "INFO - 09:14:11: worker thread finished; awaiting finish of 0 more threads\n",
            "INFO - 09:14:11: EPOCH - 3 : training on 470437 raw words (173730 effective words) took 2.7s, 65057 effective words/s\n",
            "INFO - 09:14:12: EPOCH 4 - PROGRESS: at 26.34% examples, 46367 words/s, in_qsize 1, out_qsize 0\n",
            "INFO - 09:14:13: EPOCH 4 - PROGRESS: at 72.34% examples, 61540 words/s, in_qsize 0, out_qsize 0\n",
            "INFO - 09:14:14: worker thread finished; awaiting finish of 0 more threads\n",
            "INFO - 09:14:14: EPOCH - 4 : training on 470437 raw words (174195 effective words) took 2.7s, 64531 effective words/s\n",
            "INFO - 09:14:15: EPOCH 5 - PROGRESS: at 46.07% examples, 80250 words/s, in_qsize 0, out_qsize 0\n",
            "INFO - 09:14:16: EPOCH 5 - PROGRESS: at 91.28% examples, 78540 words/s, in_qsize 1, out_qsize 0\n",
            "INFO - 09:14:16: worker thread finished; awaiting finish of 0 more threads\n",
            "INFO - 09:14:16: EPOCH - 5 : training on 470437 raw words (174154 effective words) took 2.2s, 79503 effective words/s\n",
            "INFO - 09:14:17: EPOCH 6 - PROGRESS: at 46.07% examples, 76857 words/s, in_qsize 1, out_qsize 0\n",
            "INFO - 09:14:18: EPOCH 6 - PROGRESS: at 93.41% examples, 77832 words/s, in_qsize 0, out_qsize 0\n",
            "INFO - 09:14:18: worker thread finished; awaiting finish of 0 more threads\n",
            "INFO - 09:14:18: EPOCH - 6 : training on 470437 raw words (173791 effective words) took 2.2s, 78829 effective words/s\n",
            "INFO - 09:14:19: EPOCH 7 - PROGRESS: at 41.49% examples, 72902 words/s, in_qsize 0, out_qsize 0\n",
            "INFO - 09:14:20: EPOCH 7 - PROGRESS: at 91.28% examples, 77707 words/s, in_qsize 0, out_qsize 0\n",
            "INFO - 09:14:21: worker thread finished; awaiting finish of 0 more threads\n",
            "INFO - 09:14:21: EPOCH - 7 : training on 470437 raw words (174069 effective words) took 2.2s, 78329 effective words/s\n",
            "INFO - 09:14:22: EPOCH 8 - PROGRESS: at 43.68% examples, 74464 words/s, in_qsize 0, out_qsize 0\n",
            "INFO - 09:14:23: EPOCH 8 - PROGRESS: at 89.19% examples, 74518 words/s, in_qsize 0, out_qsize 0\n",
            "INFO - 09:14:23: worker thread finished; awaiting finish of 0 more threads\n",
            "INFO - 09:14:23: EPOCH - 8 : training on 470437 raw words (174114 effective words) took 2.3s, 75698 effective words/s\n",
            "INFO - 09:14:24: EPOCH 9 - PROGRESS: at 46.07% examples, 80843 words/s, in_qsize 0, out_qsize 0\n",
            "INFO - 09:14:25: EPOCH 9 - PROGRESS: at 93.41% examples, 80811 words/s, in_qsize 0, out_qsize 0\n",
            "INFO - 09:14:25: worker thread finished; awaiting finish of 0 more threads\n",
            "INFO - 09:14:25: EPOCH - 9 : training on 470437 raw words (174490 effective words) took 2.1s, 81777 effective words/s\n",
            "INFO - 09:14:26: EPOCH 10 - PROGRESS: at 43.68% examples, 77656 words/s, in_qsize 1, out_qsize 0\n",
            "INFO - 09:14:27: EPOCH 10 - PROGRESS: at 93.41% examples, 79774 words/s, in_qsize 0, out_qsize 0\n",
            "INFO - 09:14:27: worker thread finished; awaiting finish of 0 more threads\n",
            "INFO - 09:14:27: EPOCH - 10 : training on 470437 raw words (174433 effective words) took 2.2s, 80421 effective words/s\n",
            "INFO - 09:14:28: EPOCH 11 - PROGRESS: at 43.68% examples, 76428 words/s, in_qsize 0, out_qsize 0\n",
            "INFO - 09:14:29: EPOCH 11 - PROGRESS: at 93.41% examples, 79145 words/s, in_qsize 0, out_qsize 0\n",
            "INFO - 09:14:29: worker thread finished; awaiting finish of 0 more threads\n",
            "INFO - 09:14:29: EPOCH - 11 : training on 470437 raw words (174226 effective words) took 2.2s, 80285 effective words/s\n",
            "INFO - 09:14:30: EPOCH 12 - PROGRESS: at 41.49% examples, 73342 words/s, in_qsize 0, out_qsize 0\n",
            "INFO - 09:14:31: EPOCH 12 - PROGRESS: at 91.28% examples, 77949 words/s, in_qsize 0, out_qsize 0\n",
            "INFO - 09:14:32: worker thread finished; awaiting finish of 0 more threads\n",
            "INFO - 09:14:32: EPOCH - 12 : training on 470437 raw words (174087 effective words) took 2.2s, 78955 effective words/s\n",
            "INFO - 09:14:33: EPOCH 13 - PROGRESS: at 48.46% examples, 81827 words/s, in_qsize 0, out_qsize 0\n",
            "INFO - 09:14:34: EPOCH 13 - PROGRESS: at 95.57% examples, 80709 words/s, in_qsize 0, out_qsize 0\n",
            "INFO - 09:14:34: worker thread finished; awaiting finish of 0 more threads\n",
            "INFO - 09:14:34: EPOCH - 13 : training on 470437 raw words (174257 effective words) took 2.1s, 81917 effective words/s\n",
            "INFO - 09:14:35: EPOCH 14 - PROGRESS: at 48.46% examples, 80812 words/s, in_qsize 0, out_qsize 0\n",
            "INFO - 09:14:36: EPOCH 14 - PROGRESS: at 97.76% examples, 82477 words/s, in_qsize 0, out_qsize 0\n",
            "INFO - 09:14:36: worker thread finished; awaiting finish of 0 more threads\n",
            "INFO - 09:14:36: EPOCH - 14 : training on 470437 raw words (174049 effective words) took 2.1s, 83069 effective words/s\n",
            "INFO - 09:14:37: EPOCH 15 - PROGRESS: at 46.07% examples, 79206 words/s, in_qsize 0, out_qsize 0\n",
            "INFO - 09:14:38: EPOCH 15 - PROGRESS: at 91.28% examples, 77750 words/s, in_qsize 0, out_qsize 0\n",
            "INFO - 09:14:38: worker thread finished; awaiting finish of 0 more threads\n",
            "INFO - 09:14:38: EPOCH - 15 : training on 470437 raw words (173728 effective words) took 2.2s, 78993 effective words/s\n",
            "INFO - 09:14:39: EPOCH 16 - PROGRESS: at 46.07% examples, 79833 words/s, in_qsize 0, out_qsize 0\n",
            "INFO - 09:14:40: EPOCH 16 - PROGRESS: at 93.41% examples, 80305 words/s, in_qsize 0, out_qsize 0\n",
            "INFO - 09:14:40: worker thread finished; awaiting finish of 0 more threads\n",
            "INFO - 09:14:40: EPOCH - 16 : training on 470437 raw words (173927 effective words) took 2.1s, 81568 effective words/s\n",
            "INFO - 09:14:41: EPOCH 17 - PROGRESS: at 48.46% examples, 81731 words/s, in_qsize 0, out_qsize 0\n",
            "INFO - 09:14:42: EPOCH 17 - PROGRESS: at 95.57% examples, 81783 words/s, in_qsize 0, out_qsize 0\n",
            "INFO - 09:14:42: worker thread finished; awaiting finish of 0 more threads\n",
            "INFO - 09:14:42: EPOCH - 17 : training on 470437 raw words (174139 effective words) took 2.1s, 82915 effective words/s\n",
            "INFO - 09:14:43: EPOCH 18 - PROGRESS: at 46.07% examples, 79300 words/s, in_qsize 0, out_qsize 0\n",
            "INFO - 09:14:44: EPOCH 18 - PROGRESS: at 93.41% examples, 77745 words/s, in_qsize 0, out_qsize 0\n",
            "INFO - 09:14:45: worker thread finished; awaiting finish of 0 more threads\n",
            "INFO - 09:14:45: EPOCH - 18 : training on 470437 raw words (173869 effective words) took 2.2s, 78236 effective words/s\n",
            "INFO - 09:14:46: EPOCH 19 - PROGRESS: at 48.46% examples, 81137 words/s, in_qsize 0, out_qsize 0\n",
            "INFO - 09:14:47: EPOCH 19 - PROGRESS: at 93.41% examples, 79416 words/s, in_qsize 0, out_qsize 0\n",
            "INFO - 09:14:47: worker thread finished; awaiting finish of 0 more threads\n",
            "INFO - 09:14:47: EPOCH - 19 : training on 470437 raw words (174120 effective words) took 2.2s, 80462 effective words/s\n",
            "INFO - 09:14:48: EPOCH 20 - PROGRESS: at 46.07% examples, 79999 words/s, in_qsize 0, out_qsize 0\n",
            "INFO - 09:14:49: EPOCH 20 - PROGRESS: at 95.57% examples, 80422 words/s, in_qsize 0, out_qsize 0\n",
            "INFO - 09:14:49: worker thread finished; awaiting finish of 0 more threads\n",
            "INFO - 09:14:49: EPOCH - 20 : training on 470437 raw words (174032 effective words) took 2.1s, 81141 effective words/s\n",
            "INFO - 09:14:50: EPOCH 21 - PROGRESS: at 46.07% examples, 79880 words/s, in_qsize 0, out_qsize 0\n",
            "INFO - 09:14:51: EPOCH 21 - PROGRESS: at 95.57% examples, 81360 words/s, in_qsize 0, out_qsize 0\n",
            "INFO - 09:14:51: worker thread finished; awaiting finish of 0 more threads\n",
            "INFO - 09:14:51: EPOCH - 21 : training on 470437 raw words (173846 effective words) took 2.1s, 81845 effective words/s\n",
            "INFO - 09:14:52: EPOCH 22 - PROGRESS: at 41.49% examples, 69301 words/s, in_qsize 0, out_qsize 0\n",
            "INFO - 09:14:53: EPOCH 22 - PROGRESS: at 91.28% examples, 75437 words/s, in_qsize 0, out_qsize 0\n",
            "INFO - 09:14:53: worker thread finished; awaiting finish of 0 more threads\n",
            "INFO - 09:14:53: EPOCH - 22 : training on 470437 raw words (173978 effective words) took 2.3s, 76852 effective words/s\n",
            "INFO - 09:14:54: EPOCH 23 - PROGRESS: at 46.07% examples, 80624 words/s, in_qsize 0, out_qsize 0\n",
            "INFO - 09:14:55: EPOCH 23 - PROGRESS: at 93.41% examples, 80879 words/s, in_qsize 1, out_qsize 0\n",
            "INFO - 09:14:55: worker thread finished; awaiting finish of 0 more threads\n",
            "INFO - 09:14:55: EPOCH - 23 : training on 470437 raw words (174056 effective words) took 2.1s, 81725 effective words/s\n",
            "INFO - 09:14:56: EPOCH 24 - PROGRESS: at 46.07% examples, 79827 words/s, in_qsize 0, out_qsize 0\n",
            "INFO - 09:14:57: EPOCH 24 - PROGRESS: at 93.41% examples, 80652 words/s, in_qsize 0, out_qsize 0\n",
            "INFO - 09:14:58: worker thread finished; awaiting finish of 0 more threads\n",
            "INFO - 09:14:58: EPOCH - 24 : training on 470437 raw words (174010 effective words) took 2.1s, 81259 effective words/s\n",
            "INFO - 09:14:59: EPOCH 25 - PROGRESS: at 46.07% examples, 78415 words/s, in_qsize 0, out_qsize 0\n",
            "INFO - 09:15:00: EPOCH 25 - PROGRESS: at 93.41% examples, 80026 words/s, in_qsize 1, out_qsize 0\n",
            "INFO - 09:15:00: worker thread finished; awaiting finish of 0 more threads\n",
            "INFO - 09:15:00: EPOCH - 25 : training on 470437 raw words (174236 effective words) took 2.2s, 80732 effective words/s\n",
            "INFO - 09:15:01: EPOCH 26 - PROGRESS: at 41.49% examples, 72405 words/s, in_qsize 0, out_qsize 0\n",
            "INFO - 09:15:02: EPOCH 26 - PROGRESS: at 89.19% examples, 75663 words/s, in_qsize 0, out_qsize 0\n",
            "INFO - 09:15:02: worker thread finished; awaiting finish of 0 more threads\n",
            "INFO - 09:15:02: EPOCH - 26 : training on 470437 raw words (174213 effective words) took 2.3s, 76675 effective words/s\n",
            "INFO - 09:15:03: EPOCH 27 - PROGRESS: at 46.07% examples, 80763 words/s, in_qsize 0, out_qsize 0\n",
            "INFO - 09:15:04: EPOCH 27 - PROGRESS: at 95.57% examples, 80737 words/s, in_qsize 0, out_qsize 0\n",
            "INFO - 09:15:04: worker thread finished; awaiting finish of 0 more threads\n",
            "INFO - 09:15:04: EPOCH - 27 : training on 470437 raw words (173797 effective words) took 2.1s, 81705 effective words/s\n",
            "INFO - 09:15:05: EPOCH 28 - PROGRESS: at 46.07% examples, 79134 words/s, in_qsize 0, out_qsize 0\n",
            "INFO - 09:15:06: EPOCH 28 - PROGRESS: at 93.41% examples, 80353 words/s, in_qsize 0, out_qsize 0\n",
            "INFO - 09:15:06: worker thread finished; awaiting finish of 0 more threads\n",
            "INFO - 09:15:06: EPOCH - 28 : training on 470437 raw words (174309 effective words) took 2.1s, 81756 effective words/s\n",
            "INFO - 09:15:07: EPOCH 29 - PROGRESS: at 46.07% examples, 80088 words/s, in_qsize 0, out_qsize 0\n",
            "INFO - 09:15:08: EPOCH 29 - PROGRESS: at 95.57% examples, 81486 words/s, in_qsize 0, out_qsize 0\n",
            "INFO - 09:15:08: worker thread finished; awaiting finish of 0 more threads\n",
            "INFO - 09:15:08: EPOCH - 29 : training on 470437 raw words (174448 effective words) took 2.1s, 82138 effective words/s\n",
            "INFO - 09:15:09: EPOCH 30 - PROGRESS: at 41.49% examples, 72385 words/s, in_qsize 0, out_qsize 0\n",
            "INFO - 09:15:11: EPOCH 30 - PROGRESS: at 89.19% examples, 76885 words/s, in_qsize 0, out_qsize 0\n",
            "INFO - 09:15:11: worker thread finished; awaiting finish of 0 more threads\n",
            "INFO - 09:15:11: EPOCH - 30 : training on 470437 raw words (174412 effective words) took 2.2s, 77808 effective words/s\n",
            "INFO - 09:15:11: training on a 14113110 raw words (5222691 effective words) took 66.6s, 78401 effective words/s\n"
          ]
        },
        {
          "output_type": "stream",
          "name": "stdout",
          "text": [
            "Time to train the model: 1.11 mins\n"
          ]
        }
      ]
    },
    {
      "cell_type": "markdown",
      "source": [
        "As we do not plan to train the model any further, we are calling init_sims(), which will make the model much more memory-efficient:"
      ],
      "metadata": {
        "id": "Wpp2Z4zqv7sN"
      }
    },
    {
      "cell_type": "code",
      "source": [
        "w2v_model.init_sims(replace=True)"
      ],
      "metadata": {
        "colab": {
          "base_uri": "https://localhost:8080/"
        },
        "id": "Sx4JAj6rv5Th",
        "outputId": "549f0283-ecfa-437a-9a94-3e41ef816558"
      },
      "execution_count": null,
      "outputs": [
        {
          "output_type": "stream",
          "name": "stderr",
          "text": [
            "INFO - 09:16:31: precomputing L2-norms of word weight vectors\n"
          ]
        }
      ]
    },
    {
      "cell_type": "code",
      "source": [
        "# exploring the model\n",
        "# we will ask our model to find the word most similar to some of the most iconic characters of the Simpsons!"
      ],
      "metadata": {
        "id": "iSkKrzuXv5XU"
      },
      "execution_count": null,
      "outputs": []
    },
    {
      "cell_type": "code",
      "source": [
        "w2v_model.wv.most_similar(positive=[\"homer\"])"
      ],
      "metadata": {
        "colab": {
          "base_uri": "https://localhost:8080/"
        },
        "id": "09-ct0Div5ab",
        "outputId": "3089b80a-745d-4f43-bbb2-8457f43b98c2"
      },
      "execution_count": null,
      "outputs": [
        {
          "output_type": "execute_result",
          "data": {
            "text/plain": [
              "[('marge', 0.828229546546936),\n",
              " ('grownup', 0.806647777557373),\n",
              " ('sweetheart', 0.8045774102210999),\n",
              " ('apu', 0.8008295893669128),\n",
              " ('rude', 0.7986841797828674),\n",
              " ('happen', 0.7937724590301514),\n",
              " ('duh', 0.7891429662704468),\n",
              " ('nervous', 0.7866657376289368),\n",
              " ('drunk', 0.786217451095581),\n",
              " ('snuggle', 0.7835480570793152)]"
            ]
          },
          "metadata": {},
          "execution_count": 25
        }
      ]
    },
    {
      "cell_type": "markdown",
      "source": [
        "A small precision here:\n",
        "The dataset is the Simpsons' lines of dialogue; therefore, when we look at the most similar words from \"homer\" we do not necessary get his family members, personality traits, or even his most quotable words. No, we get what other characters (as Homer does not often refers to himself at the 3rd person) said along with \"homer\", such as how he feels or looks (\"depressed\"), where he is (\"hammock\"), or with whom (\"marge\").\n",
        "\n",
        "Let's see what the bigram \"homer_simpson\" gives us by comparison:"
      ],
      "metadata": {
        "id": "XiQKv72exO14"
      }
    },
    {
      "cell_type": "code",
      "source": [
        "w2v_model.wv.most_similar(positive=[\"homer_simpson\"])"
      ],
      "metadata": {
        "colab": {
          "base_uri": "https://localhost:8080/"
        },
        "id": "dn5rtF4Iv5jP",
        "outputId": "a7f81f31-cc3b-4903-ff20-c826738e46a7"
      },
      "execution_count": null,
      "outputs": [
        {
          "output_type": "execute_result",
          "data": {
            "text/plain": [
              "[('congratulation', 0.8391463160514832),\n",
              " ('robert', 0.835328221321106),\n",
              " ('select', 0.8307275772094727),\n",
              " ('recent', 0.8266687393188477),\n",
              " ('pleased', 0.8199465274810791),\n",
              " ('elect', 0.8168405294418335),\n",
              " ('committee', 0.8150883913040161),\n",
              " ('ceremony', 0.8137437105178833),\n",
              " ('threat', 0.811286449432373),\n",
              " ('attorney', 0.8100112676620483)]"
            ]
          },
          "metadata": {},
          "execution_count": 26
        }
      ]
    },
    {
      "cell_type": "code",
      "source": [
        "# What about Marge now?\n",
        "w2v_model.wv.most_similar(positive=[\"marge\"])"
      ],
      "metadata": {
        "colab": {
          "base_uri": "https://localhost:8080/"
        },
        "id": "jYdhyYOkv5no",
        "outputId": "eb2826db-664e-4ba3-8e86-1adda0ef8f66"
      },
      "execution_count": null,
      "outputs": [
        {
          "output_type": "execute_result",
          "data": {
            "text/plain": [
              "[('sorry', 0.8429554104804993),\n",
              " ('sweetheart', 0.8336213827133179),\n",
              " ('homer', 0.8282296061515808),\n",
              " ('homie', 0.817916989326477),\n",
              " ('snuggle', 0.8154658079147339),\n",
              " ('rude', 0.8148587346076965),\n",
              " ('fault', 0.8146848678588867),\n",
              " ('normally', 0.8027015924453735),\n",
              " ('have', 0.8005430102348328),\n",
              " ('ralphie', 0.7990739941596985)]"
            ]
          },
          "metadata": {},
          "execution_count": 27
        }
      ]
    },
    {
      "cell_type": "code",
      "source": [
        "# lets check bart now:\n",
        "w2v_model.wv.most_similar(positive=[\"bart\"])"
      ],
      "metadata": {
        "colab": {
          "base_uri": "https://localhost:8080/"
        },
        "id": "S7_GsYE7v5qn",
        "outputId": "67bf7f15-e967-4d05-d0a0-247910dcbbb6"
      },
      "execution_count": null,
      "outputs": [
        {
          "output_type": "execute_result",
          "data": {
            "text/plain": [
              "[('lisa', 0.8552330732345581),\n",
              " ('mom_dad', 0.84839928150177),\n",
              " ('concerned', 0.8459775447845459),\n",
              " ('surprised', 0.8376045227050781),\n",
              " ('mom', 0.83631432056427),\n",
              " ('bedtime', 0.8329649567604065),\n",
              " ('worried', 0.8298053741455078),\n",
              " ('selfish', 0.826146125793457),\n",
              " ('convince', 0.8253860473632812),\n",
              " ('pregnant', 0.8251398801803589)]"
            ]
          },
          "metadata": {},
          "execution_count": 28
        }
      ]
    },
    {
      "cell_type": "code",
      "source": [
        "# Similarities:\n",
        "# Here, we will see how similar are two words to each other :"
      ],
      "metadata": {
        "id": "i0g-FfHSv5tQ"
      },
      "execution_count": null,
      "outputs": []
    },
    {
      "cell_type": "code",
      "source": [
        "w2v_model.wv.similarity(\"maggie\", 'baby')"
      ],
      "metadata": {
        "colab": {
          "base_uri": "https://localhost:8080/"
        },
        "id": "W-XbYaW9n35c",
        "outputId": "48bc727d-394c-496d-893d-09d172c19896"
      },
      "execution_count": null,
      "outputs": [
        {
          "output_type": "execute_result",
          "data": {
            "text/plain": [
              "0.74583334"
            ]
          },
          "metadata": {},
          "execution_count": 30
        }
      ]
    },
    {
      "cell_type": "code",
      "source": [
        "w2v_model.wv.similarity('bart', 'nelson')"
      ],
      "metadata": {
        "colab": {
          "base_uri": "https://localhost:8080/"
        },
        "id": "W_fUpjLgy1Q9",
        "outputId": "38a1c54d-282d-4f56-f170-3f06001640c0"
      },
      "execution_count": null,
      "outputs": [
        {
          "output_type": "execute_result",
          "data": {
            "text/plain": [
              "0.6850492"
            ]
          },
          "metadata": {},
          "execution_count": 32
        }
      ]
    },
    {
      "cell_type": "markdown",
      "source": [
        "Odd-One-Out:¶\n",
        "Here, we ask our model to give us the word that does not belong to the list!\n",
        "\n",
        "Between Jimbo, Milhouse, and Kearney, who is the one who is not a bully?"
      ],
      "metadata": {
        "id": "qfqiUvpwzJO5"
      }
    },
    {
      "cell_type": "code",
      "source": [
        "w2v_model.wv.doesnt_match(['jimbo', 'milhouse', 'kearney'])\n"
      ],
      "metadata": {
        "colab": {
          "base_uri": "https://localhost:8080/",
          "height": 107
        },
        "id": "-w6m2--azGhH",
        "outputId": "77be1d2d-affa-4790-f7b7-691817a3590d"
      },
      "execution_count": null,
      "outputs": [
        {
          "output_type": "stream",
          "name": "stderr",
          "text": [
            "WARNING - 09:30:16: vectors for words {'kearney'} are not present in the model, ignoring these words\n",
            "/usr/local/lib/python3.7/dist-packages/gensim/models/keyedvectors.py:895: FutureWarning: arrays to stack must be passed as a \"sequence\" type such as list or tuple. Support for non-sequence iterables such as generators is deprecated as of NumPy 1.16 and will raise an error in the future.\n",
            "  vectors = vstack(self.word_vec(word, use_norm=True) for word in used_words).astype(REAL)\n"
          ]
        },
        {
          "output_type": "execute_result",
          "data": {
            "text/plain": [
              "'jimbo'"
            ],
            "application/vnd.google.colaboratory.intrinsic+json": {
              "type": "string"
            }
          },
          "metadata": {},
          "execution_count": 33
        }
      ]
    },
    {
      "cell_type": "code",
      "source": [
        "# t-SNE visualizations"
      ],
      "metadata": {
        "id": "-SG2iB7ZzGkB"
      },
      "execution_count": null,
      "outputs": []
    },
    {
      "cell_type": "code",
      "source": [
        "import numpy as np\n",
        "import matplotlib.pyplot as plt\n",
        "%matplotlib inline\n",
        " \n",
        "import seaborn as sns\n",
        "sns.set_style(\"darkgrid\")\n",
        "\n",
        "from sklearn.decomposition import PCA\n",
        "from sklearn.manifold import TSNE"
      ],
      "metadata": {
        "id": "ir3_am_hzGnF"
      },
      "execution_count": null,
      "outputs": []
    },
    {
      "cell_type": "markdown",
      "source": [
        "To make the visualizations more relevant, we will look at the relationships between a query word (in **red**), its most similar words in the model (in **blue**), and other words from the vocabulary (in **green**)."
      ],
      "metadata": {
        "id": "CvowMM6M0J1d"
      }
    },
    {
      "cell_type": "code",
      "source": [
        "def tsnescatterplot(model, word, list_names):\n",
        "    \"\"\" Plot in seaborn the results from the t-SNE dimensionality reduction algorithm of the vectors of a query word,\n",
        "    its list of most similar words, and a list of words.\n",
        "    \"\"\"\n",
        "    arrays = np.empty((0, 300), dtype='f')\n",
        "    word_labels = [word]\n",
        "    color_list  = ['red']\n",
        "\n",
        "    # adds the vector of the query word\n",
        "    arrays = np.append(arrays, model.wv.__getitem__([word]), axis=0)\n",
        "    \n",
        "    # gets list of most similar words\n",
        "    close_words = model.wv.most_similar([word])\n",
        "    \n",
        "    # adds the vector for each of the closest words to the array\n",
        "    for wrd_score in close_words:\n",
        "        wrd_vector = model.wv.__getitem__([wrd_score[0]])\n",
        "        word_labels.append(wrd_score[0])\n",
        "        color_list.append('blue')\n",
        "        arrays = np.append(arrays, wrd_vector, axis=0)\n",
        "    \n",
        "    # adds the vector for each of the words from list_names to the array\n",
        "    for wrd in list_names:\n",
        "        wrd_vector = model.wv.__getitem__([wrd])\n",
        "        word_labels.append(wrd)\n",
        "        color_list.append('green')\n",
        "        arrays = np.append(arrays, wrd_vector, axis=0)\n",
        "        \n",
        "    # Reduces the dimensionality from 300 to 50 dimensions with PCA\n",
        "    reduc = PCA(n_components=2).fit_transform(arrays)\n",
        "    \n",
        "    # Finds t-SNE coordinates for 2 dimensions\n",
        "    np.set_printoptions(suppress=True)\n",
        "    \n",
        "    Y = TSNE(n_components=2, random_state=0, perplexity=15).fit_transform(reduc)\n",
        "    \n",
        "    # Sets everything up to plot\n",
        "    df = pd.DataFrame({'x': [x for x in Y[:, 0]],\n",
        "                       'y': [y for y in Y[:, 1]],\n",
        "                       'words': word_labels,\n",
        "                       'color': color_list})\n",
        "    \n",
        "    fig, _ = plt.subplots()\n",
        "    fig.set_size_inches(9, 9)\n",
        "    \n",
        "    # Basic plot\n",
        "    p1 = sns.regplot(data=df,\n",
        "                     x=\"x\",\n",
        "                     y=\"y\",\n",
        "                     fit_reg=False,\n",
        "                     marker=\"o\",\n",
        "                     scatter_kws={'s': 40,\n",
        "                                  'facecolors': df['color']\n",
        "                                 }\n",
        "                    )\n",
        "    \n",
        "    # Adds annotations one by one with a loop\n",
        "    for line in range(0, df.shape[0]):\n",
        "         p1.text(df[\"x\"][line],\n",
        "                 df['y'][line],\n",
        "                 '  ' + df[\"words\"][line].title(),\n",
        "                 horizontalalignment='left',\n",
        "                 verticalalignment='bottom', size='medium',\n",
        "                 color=df['color'][line],\n",
        "                 weight='normal'\n",
        "                ).set_size(15)\n",
        "\n",
        "    \n",
        "    plt.xlim(Y[:, 0].min()-50, Y[:, 0].max()+50)\n",
        "    plt.ylim(Y[:, 1].min()-50, Y[:, 1].max()+50)\n",
        "            \n",
        "    plt.title('t-SNE visualization for {}'.format(word.title()))"
      ],
      "metadata": {
        "id": "PvYc8n4ezGqB"
      },
      "execution_count": null,
      "outputs": []
    },
    {
      "cell_type": "markdown",
      "source": [
        "10 Most similar words vs. 8 Random words:¶\n",
        "Let's compare where the vector representation of Homer, his 10 most similar words from the model, as well as 8 random ones, lies in a 2D graph:"
      ],
      "metadata": {
        "id": "sNb9YhT20bal"
      }
    },
    {
      "cell_type": "code",
      "source": [
        "tsnescatterplot(w2v_model, 'homer', ['dog', 'bird', 'ah', 'maude', 'bob', 'mel', 'apu', 'duff'])"
      ],
      "metadata": {
        "colab": {
          "base_uri": "https://localhost:8080/",
          "height": 656
        },
        "id": "yygWRyqHzG8y",
        "outputId": "cfc6b23b-1dff-42b7-eea3-927257454764"
      },
      "execution_count": null,
      "outputs": [
        {
          "output_type": "stream",
          "name": "stderr",
          "text": [
            "/usr/local/lib/python3.7/dist-packages/sklearn/manifold/_t_sne.py:783: FutureWarning: The default initialization in TSNE will change from 'random' to 'pca' in 1.2.\n",
            "  FutureWarning,\n",
            "/usr/local/lib/python3.7/dist-packages/sklearn/manifold/_t_sne.py:793: FutureWarning: The default learning rate in TSNE will change from 200.0 to 'auto' in 1.2.\n",
            "  FutureWarning,\n"
          ]
        },
        {
          "output_type": "display_data",
          "data": {
            "text/plain": [
              "<Figure size 648x648 with 1 Axes>"
            ],
            "image/png": "[encoded data removed]"
          },
          "metadata": {}
        }
      ]
    },
    {
      "cell_type": "markdown",
      "source": [
        "10 Most similar words vs. 10 Most dissimilar\n",
        "This time, let's compare where the vector representation of Maggie and her 10 most similar words from the model lies compare to the vector representation of the 10 most dissimilar words to Maggie:"
      ],
      "metadata": {
        "id": "dXOJynkp1SHf"
      }
    },
    {
      "cell_type": "code",
      "source": [
        "tsnescatterplot(w2v_model, 'maggie', [i[0] for i in w2v_model.wv.most_similar(negative=[\"maggie\"])])"
      ],
      "metadata": {
        "colab": {
          "base_uri": "https://localhost:8080/",
          "height": 656
        },
        "id": "JQPmI-RUzHDE",
        "outputId": "95e08d57-468d-4854-85a8-14530377e720"
      },
      "execution_count": null,
      "outputs": [
        {
          "output_type": "stream",
          "name": "stderr",
          "text": [
            "/usr/local/lib/python3.7/dist-packages/sklearn/manifold/_t_sne.py:783: FutureWarning: The default initialization in TSNE will change from 'random' to 'pca' in 1.2.\n",
            "  FutureWarning,\n",
            "/usr/local/lib/python3.7/dist-packages/sklearn/manifold/_t_sne.py:793: FutureWarning: The default learning rate in TSNE will change from 200.0 to 'auto' in 1.2.\n",
            "  FutureWarning,\n"
          ]
        },
        {
          "output_type": "display_data",
          "data": {
            "text/plain": [
              "<Figure size 648x648 with 1 Axes>"
            ],
            "image/png": "[encoded data removed]"
          },
          "metadata": {}
        }
      ]
    }
  ]
}